{
 "cells": [
  {
   "cell_type": "code",
   "execution_count": 6,
   "metadata": {},
   "outputs": [],
   "source": [
    "from ensure import ensure_annotations\n",
    "\n",
    "@ensure_annotations\n",
    "def produit(a:int, b:int) -> int:\n",
    "    return a*b"
   ]
  },
  {
   "cell_type": "code",
   "execution_count": 8,
   "metadata": {},
   "outputs": [
    {
     "data": {
      "text/plain": [
       "20"
      ]
     },
     "execution_count": 8,
     "metadata": {},
     "output_type": "execute_result"
    }
   ],
   "source": [
    "produit(4,5)"
   ]
  },
  {
   "cell_type": "code",
   "execution_count": 12,
   "metadata": {},
   "outputs": [],
   "source": [
    "from box import ConfigBox\n",
    "dictionnaire = ConfigBox({\"nom\": \"Faneva\", \"prenom\": \"test\"})"
   ]
  },
  {
   "cell_type": "code",
   "execution_count": 13,
   "metadata": {},
   "outputs": [
    {
     "data": {
      "text/plain": [
       "'Faneva'"
      ]
     },
     "execution_count": 13,
     "metadata": {},
     "output_type": "execute_result"
    }
   ],
   "source": [
    "dictionnaire[\"nom\"]"
   ]
  },
  {
   "cell_type": "code",
   "execution_count": 14,
   "metadata": {},
   "outputs": [
    {
     "data": {
      "text/plain": [
       "'Faneva'"
      ]
     },
     "execution_count": 14,
     "metadata": {},
     "output_type": "execute_result"
    }
   ],
   "source": [
    "dictionnaire.nom"
   ]
  },
  {
   "cell_type": "code",
   "execution_count": 15,
   "metadata": {},
   "outputs": [],
   "source": [
    "url = \"https://drive.google.com/file/d/1KR9fyeh7EhG4LoWr3vaDLA8-dImZ5_4t/view?usp=sharing\""
   ]
  },
  {
   "cell_type": "code",
   "execution_count": 16,
   "metadata": {},
   "outputs": [],
   "source": [
    "import gdown"
   ]
  },
  {
   "cell_type": "code",
   "execution_count": 17,
   "metadata": {},
   "outputs": [],
   "source": [
    "key = url.split(\"/\")[-2]"
   ]
  },
  {
   "cell_type": "code",
   "execution_count": 18,
   "metadata": {},
   "outputs": [
    {
     "data": {
      "text/plain": [
       "'1KR9fyeh7EhG4LoWr3vaDLA8-dImZ5_4t'"
      ]
     },
     "execution_count": 18,
     "metadata": {},
     "output_type": "execute_result"
    }
   ],
   "source": [
    "key"
   ]
  },
  {
   "cell_type": "code",
   "execution_count": 19,
   "metadata": {},
   "outputs": [
    {
     "name": "stderr",
     "output_type": "stream",
     "text": [
      "Downloading...\n",
      "From (original): https://drive.google.com/uc?/export=download&id=1KR9fyeh7EhG4LoWr3vaDLA8-dImZ5_4t\n",
      "From (redirected): https://drive.google.com/uc?/export=download&id=1KR9fyeh7EhG4LoWr3vaDLA8-dImZ5_4t&confirm=t&uuid=41257dce-dd1d-4603-9548-3d4181f00c55\n",
      "To: /home/faneva/CAPLOGY/Ynov/code/dog_cat_classification_v2/research/data.zip\n",
      "100%|██████████| 45.7M/45.7M [00:30<00:00, 1.49MB/s]\n"
     ]
    },
    {
     "data": {
      "text/plain": [
       "'data.zip'"
      ]
     },
     "execution_count": 19,
     "metadata": {},
     "output_type": "execute_result"
    }
   ],
   "source": [
    "prefix = 'https://drive.google.com/uc?/export=download&id='\n",
    "gdown.download(prefix+key, \"data.zip\")"
   ]
  },
  {
   "cell_type": "code",
   "execution_count": 20,
   "metadata": {},
   "outputs": [
    {
     "name": "stdout",
     "output_type": "stream",
     "text": [
      "[2024-02-01 10:47:11,114: INFO: common: yaml file: ../config/config.yaml loaded successfully]\n"
     ]
    }
   ],
   "source": [
    "from cnnClassifier.utils.common import read_yaml\n",
    "from pathlib import Path\n",
    "yaml = read_yaml(Path(\"../config/config.yaml\"))"
   ]
  },
  {
   "cell_type": "code",
   "execution_count": 22,
   "metadata": {},
   "outputs": [
    {
     "data": {
      "text/plain": [
       "'artifacts/data_ingestion'"
      ]
     },
     "execution_count": 22,
     "metadata": {},
     "output_type": "execute_result"
    }
   ],
   "source": [
    "yaml.data_ingestion.root_dir"
   ]
  },
  {
   "cell_type": "code",
   "execution_count": null,
   "metadata": {},
   "outputs": [],
   "source": []
  },
  {
   "cell_type": "code",
   "execution_count": 8,
   "metadata": {},
   "outputs": [],
   "source": [
    "from cnnClassifier.config.configuration import ConfigurationManager"
   ]
  },
  {
   "cell_type": "code",
   "execution_count": 8,
   "metadata": {},
   "outputs": [
    {
     "name": "stdout",
     "output_type": "stream",
     "text": [
      "[2024-02-01 11:47:20,305: INFO: common: yaml file: config/config.yaml loaded successfully]\n",
      "[2024-02-01 11:47:20,306: INFO: common: created directory at: artifacts]\n",
      "[2024-02-01 11:47:20,306: INFO: common: created directory at: artifacts/data_ingestion]\n"
     ]
    }
   ],
   "source": [
    "config_manager = ConfigurationManager()\n",
    "data_ingestion_config = config_manager.get_data_ingestion_config()"
   ]
  },
  {
   "cell_type": "code",
   "execution_count": 9,
   "metadata": {},
   "outputs": [],
   "source": [
    "from cnnClassifier.components.data_ingestion import DataIngestion\n",
    "data_ingestion_component = DataIngestion(data_ingestion_config)"
   ]
  },
  {
   "cell_type": "code",
   "execution_count": 12,
   "metadata": {},
   "outputs": [
    {
     "name": "stdout",
     "output_type": "stream",
     "text": [
      "[2024-02-01 11:52:19,907: INFO: data_ingestion: Downloading data from https://drive.google.com/file/d/1KR9fyeh7EhG4LoWr3vaDLA8-dImZ5_4t/view?usp=sharing into file artifacts/data_ingestion/data.zip]\n"
     ]
    },
    {
     "name": "stderr",
     "output_type": "stream",
     "text": [
      "Downloading...\n",
      "From (original): https://drive.google.com/uc?/export=download&id=1KR9fyeh7EhG4LoWr3vaDLA8-dImZ5_4t\n",
      "From (redirected): https://drive.google.com/uc?/export=download&id=1KR9fyeh7EhG4LoWr3vaDLA8-dImZ5_4t&confirm=t&uuid=72102a8e-2a93-46e5-b86f-fa1d9f6c3133\n",
      "To: /home/faneva/CAPLOGY/Ynov/code/dog_cat_classification_v2/artifacts/data_ingestion/data.zip\n",
      "100%|██████████| 45.7M/45.7M [00:21<00:00, 2.10MB/s]"
     ]
    },
    {
     "name": "stdout",
     "output_type": "stream",
     "text": [
      "[2024-02-01 11:52:43,779: INFO: data_ingestion: Downloaded data from https://drive.google.com/file/d/1KR9fyeh7EhG4LoWr3vaDLA8-dImZ5_4t/view?usp=sharing into file artifacts/data_ingestion/data.zip]\n"
     ]
    },
    {
     "name": "stderr",
     "output_type": "stream",
     "text": [
      "\n"
     ]
    }
   ],
   "source": [
    "data_ingestion_component.download_data()"
   ]
  },
  {
   "cell_type": "code",
   "execution_count": 13,
   "metadata": {},
   "outputs": [],
   "source": [
    "data_ingestion_component.unzip()"
   ]
  },
  {
   "cell_type": "code",
   "execution_count": 1,
   "metadata": {},
   "outputs": [
    {
     "data": {
      "text/plain": [
       "'/home/faneva/CAPLOGY/Ynov/code/dog_cat_classification_v2/research'"
      ]
     },
     "execution_count": 1,
     "metadata": {},
     "output_type": "execute_result"
    }
   ],
   "source": [
    "import os\n",
    "%pwd"
   ]
  },
  {
   "cell_type": "code",
   "execution_count": 2,
   "metadata": {},
   "outputs": [],
   "source": [
    "os.chdir(\"../\")"
   ]
  },
  {
   "cell_type": "code",
   "execution_count": 3,
   "metadata": {},
   "outputs": [
    {
     "data": {
      "text/plain": [
       "'/home/faneva/CAPLOGY/Ynov/code/dog_cat_classification_v2'"
      ]
     },
     "execution_count": 3,
     "metadata": {},
     "output_type": "execute_result"
    }
   ],
   "source": [
    "%pwd"
   ]
  },
  {
   "cell_type": "code",
   "execution_count": 4,
   "metadata": {},
   "outputs": [
    {
     "name": "stdout",
     "output_type": "stream",
     "text": [
      "[2024-02-01 12:38:17,042: INFO: common: yaml file: config/config.yaml loaded successfully]\n",
      "[2024-02-01 12:38:17,044: INFO: common: yaml file: params.yaml loaded successfully]\n",
      "[2024-02-01 12:38:17,045: INFO: common: created directory at: artifacts]\n",
      "[2024-02-01 12:38:17,045: INFO: common: created directory at: artifacts/prepare_base_model]\n"
     ]
    }
   ],
   "source": [
    "from cnnClassifier.config.configuration import ConfigurationManager\n",
    "config_manager = ConfigurationManager()\n",
    "base_model_config = config_manager.get_prepare_base_model_config()"
   ]
  },
  {
   "cell_type": "code",
   "execution_count": 6,
   "metadata": {},
   "outputs": [],
   "source": [
    "from cnnClassifier.components.prepare_base_model import PrepareBaseModel\n",
    "prepare_base_component = PrepareBaseModel(base_model_config)"
   ]
  },
  {
   "cell_type": "code",
   "execution_count": 7,
   "metadata": {},
   "outputs": [
    {
     "name": "stdout",
     "output_type": "stream",
     "text": [
      "[2024-02-01 12:39:38,579: WARNING: saving_utils: Compiled the loaded model, but the compiled metrics have yet to be built. `model.compile_metrics` will be empty until you train or evaluate the model.]\n"
     ]
    }
   ],
   "source": [
    "prepare_base_component.get_base_model()"
   ]
  },
  {
   "cell_type": "code",
   "execution_count": 8,
   "metadata": {},
   "outputs": [
    {
     "name": "stdout",
     "output_type": "stream",
     "text": [
      "Model: \"model\"\n",
      "_________________________________________________________________\n",
      " Layer (type)                Output Shape              Param #   \n",
      "=================================================================\n",
      " input_1 (InputLayer)        [(None, 224, 224, 3)]     0         \n",
      "                                                                 \n",
      " block1_conv1 (Conv2D)       (None, 224, 224, 64)      1792      \n",
      "                                                                 \n",
      " block1_conv2 (Conv2D)       (None, 224, 224, 64)      36928     \n",
      "                                                                 \n",
      " block1_pool (MaxPooling2D)  (None, 112, 112, 64)      0         \n",
      "                                                                 \n",
      " block2_conv1 (Conv2D)       (None, 112, 112, 128)     73856     \n",
      "                                                                 \n",
      " block2_conv2 (Conv2D)       (None, 112, 112, 128)     147584    \n",
      "                                                                 \n",
      " block2_pool (MaxPooling2D)  (None, 56, 56, 128)       0         \n",
      "                                                                 \n",
      " block3_conv1 (Conv2D)       (None, 56, 56, 256)       295168    \n",
      "                                                                 \n",
      " block3_conv2 (Conv2D)       (None, 56, 56, 256)       590080    \n",
      "                                                                 \n",
      " block3_conv3 (Conv2D)       (None, 56, 56, 256)       590080    \n",
      "                                                                 \n",
      " block3_pool (MaxPooling2D)  (None, 28, 28, 256)       0         \n",
      "                                                                 \n",
      " block4_conv1 (Conv2D)       (None, 28, 28, 512)       1180160   \n",
      "                                                                 \n",
      " block4_conv2 (Conv2D)       (None, 28, 28, 512)       2359808   \n",
      "                                                                 \n",
      " block4_conv3 (Conv2D)       (None, 28, 28, 512)       2359808   \n",
      "                                                                 \n",
      " block4_pool (MaxPooling2D)  (None, 14, 14, 512)       0         \n",
      "                                                                 \n",
      " block5_conv1 (Conv2D)       (None, 14, 14, 512)       2359808   \n",
      "                                                                 \n",
      " block5_conv2 (Conv2D)       (None, 14, 14, 512)       2359808   \n",
      "                                                                 \n",
      " block5_conv3 (Conv2D)       (None, 14, 14, 512)       2359808   \n",
      "                                                                 \n",
      " block5_pool (MaxPooling2D)  (None, 7, 7, 512)         0         \n",
      "                                                                 \n",
      " flatten (Flatten)           (None, 25088)             0         \n",
      "                                                                 \n",
      " dense (Dense)               (None, 2)                 50178     \n",
      "                                                                 \n",
      "=================================================================\n",
      "Total params: 14,764,866\n",
      "Trainable params: 50,178\n",
      "Non-trainable params: 14,714,688\n",
      "_________________________________________________________________\n"
     ]
    }
   ],
   "source": [
    "prepare_base_component.update_base_model()"
   ]
  },
  {
   "cell_type": "code",
   "execution_count": 5,
   "metadata": {},
   "outputs": [],
   "source": [
    "from tensorflow.keras.preprocessing import image\n",
    "imagename = \"../artifacts/data_ingestion/dog_cat_data/cat/cat.0.jpg\"\n",
    "test_image = image.load_img(imagename, target_size = (224,224))\n",
    "test_image = image.img_to_array(test_image)/255"
   ]
  },
  {
   "cell_type": "code",
   "execution_count": 6,
   "metadata": {},
   "outputs": [
    {
     "data": {
      "text/plain": [
       "array([[[0.79607844, 0.6431373 , 0.34117648],\n",
       "        [0.80784315, 0.654902  , 0.3529412 ],\n",
       "        [0.81960785, 0.6666667 , 0.3647059 ],\n",
       "        ...,\n",
       "        [0.9607843 , 0.79607844, 0.46666667],\n",
       "        [0.9529412 , 0.7921569 , 0.47843137],\n",
       "        [0.9372549 , 0.78431374, 0.4745098 ]],\n",
       "\n",
       "       [[0.79607844, 0.6431373 , 0.34117648],\n",
       "        [0.80784315, 0.654902  , 0.3529412 ],\n",
       "        [0.81960785, 0.6666667 , 0.3647059 ],\n",
       "        ...,\n",
       "        [0.9607843 , 0.8039216 , 0.47058824],\n",
       "        [0.9490196 , 0.8       , 0.48235294],\n",
       "        [0.9411765 , 0.7882353 , 0.47843137]],\n",
       "\n",
       "       [[0.79607844, 0.6431373 , 0.34117648],\n",
       "        [0.80784315, 0.654902  , 0.3529412 ],\n",
       "        [0.81960785, 0.6666667 , 0.3647059 ],\n",
       "        ...,\n",
       "        [0.9607843 , 0.8       , 0.47843137],\n",
       "        [0.9529412 , 0.8039216 , 0.4862745 ],\n",
       "        [0.94509804, 0.7921569 , 0.48235294]],\n",
       "\n",
       "       ...,\n",
       "\n",
       "       [[0.6039216 , 0.48235294, 0.21960784],\n",
       "        [0.60784316, 0.4862745 , 0.22352941],\n",
       "        [0.6117647 , 0.49019608, 0.22745098],\n",
       "        ...,\n",
       "        [0.01176471, 0.01176471, 0.00392157],\n",
       "        [0.01176471, 0.01176471, 0.00392157],\n",
       "        [0.01176471, 0.01176471, 0.00392157]],\n",
       "\n",
       "       [[0.6       , 0.47843137, 0.21568628],\n",
       "        [0.6       , 0.47843137, 0.21568628],\n",
       "        [0.6039216 , 0.48235294, 0.21960784],\n",
       "        ...,\n",
       "        [0.00784314, 0.00784314, 0.        ],\n",
       "        [0.00784314, 0.00784314, 0.        ],\n",
       "        [0.00784314, 0.00784314, 0.        ]],\n",
       "\n",
       "       [[0.5921569 , 0.47058824, 0.20784314],\n",
       "        [0.59607846, 0.4745098 , 0.21176471],\n",
       "        [0.6       , 0.47843137, 0.21568628],\n",
       "        ...,\n",
       "        [0.00392157, 0.00392157, 0.        ],\n",
       "        [0.00392157, 0.00392157, 0.        ],\n",
       "        [0.00392157, 0.00392157, 0.        ]]], dtype=float32)"
      ]
     },
     "execution_count": 6,
     "metadata": {},
     "output_type": "execute_result"
    }
   ],
   "source": [
    "test_image"
   ]
  },
  {
   "cell_type": "code",
   "execution_count": null,
   "metadata": {},
   "outputs": [],
   "source": []
  }
 ],
 "metadata": {
  "kernelspec": {
   "display_name": "genEnv",
   "language": "python",
   "name": "python3"
  },
  "language_info": {
   "codemirror_mode": {
    "name": "ipython",
    "version": 3
   },
   "file_extension": ".py",
   "mimetype": "text/x-python",
   "name": "python",
   "nbconvert_exporter": "python",
   "pygments_lexer": "ipython3",
   "version": "3.11.4"
  }
 },
 "nbformat": 4,
 "nbformat_minor": 2
}
